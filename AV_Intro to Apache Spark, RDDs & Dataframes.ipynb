{
    "nbformat_minor": 0, 
    "cells": [
        {
            "source": "# Comprehensive Introduction to Apache Spark, RDDs & Dataframes (using PySpark)\n\nhttps://www.analyticsvidhya.com/blog/2016/09/comprehensive-introduction-to-apache-spark-rdds-dataframes-using-pyspark/\n\n## Creating a SparkContext\n\nFirst we need to create a SparkContext. We will import this from pyspark:", 
            "cell_type": "markdown", 
            "metadata": {}
        }, 
        {
            "source": "# from pyspark import SparkContext", 
            "execution_count": 1, 
            "cell_type": "code", 
            "outputs": [], 
            "metadata": {
                "collapsed": true
            }
        }, 
        {
            "source": "Now create the SparkContext,A SparkContext represents the connection to a Spark cluster, and can be used to create an RDD and broadcast variables on that cluster.\n\n*Note! You can only have one SparkContext at a time the way we are running things here.*", 
            "cell_type": "markdown", 
            "metadata": {}
        }, 
        {
            "source": "# sc = SparkContext()", 
            "execution_count": 4, 
            "cell_type": "code", 
            "outputs": [], 
            "metadata": {
                "collapsed": false
            }
        }, 
        {
            "source": "# Spark context alreday exists!\nsc", 
            "execution_count": 34, 
            "cell_type": "code", 
            "outputs": [
                {
                    "data": {
                        "text/plain": "<pyspark.context.SparkContext at 0x7f8b9a4c8450>"
                    }, 
                    "execution_count": 34, 
                    "output_type": "execute_result", 
                    "metadata": {}
                }
            ], 
            "metadata": {
                "collapsed": false
            }
        }, 
        {
            "source": "sc.version", 
            "execution_count": 35, 
            "cell_type": "code", 
            "outputs": [
                {
                    "data": {
                        "text/plain": "u'1.6.0'"
                    }, 
                    "execution_count": 35, 
                    "output_type": "execute_result", 
                    "metadata": {}
                }
            ], 
            "metadata": {
                "collapsed": false
            }
        }, 
        {
            "source": "data = range(1,1000)\nrdd = sc.parallelize(data)", 
            "execution_count": 36, 
            "cell_type": "code", 
            "outputs": [], 
            "metadata": {
                "collapsed": true
            }
        }, 
        {
            "source": "rdd.collect()", 
            "execution_count": null, 
            "cell_type": "code", 
            "outputs": [], 
            "metadata": {
                "collapsed": false
            }
        }, 
        {
            "source": "rdd.take(2) # It will print first 2 elements of rdd", 
            "execution_count": 38, 
            "cell_type": "code", 
            "outputs": [
                {
                    "data": {
                        "text/plain": "[1, 2]"
                    }, 
                    "execution_count": 38, 
                    "output_type": "execute_result", 
                    "metadata": {}
                }
            ], 
            "metadata": {
                "collapsed": false
            }
        }, 
        {
            "source": "data = ['Hello' , 'I' , 'AM', 'Ankit ', 'Gupta']\nRdd = sc.parallelize(data)", 
            "execution_count": 39, 
            "cell_type": "code", 
            "outputs": [], 
            "metadata": {
                "collapsed": true
            }
        }, 
        {
            "source": "Rdd1 = Rdd.map(lambda x: (x,1))", 
            "execution_count": 40, 
            "cell_type": "code", 
            "outputs": [], 
            "metadata": {
                "collapsed": true
            }
        }, 
        {
            "source": "Rdd1.collect()", 
            "execution_count": 41, 
            "cell_type": "code", 
            "outputs": [
                {
                    "data": {
                        "text/plain": "[('Hello', 1), ('I', 1), ('AM', 1), ('Ankit ', 1), ('Gupta', 1)]"
                    }, 
                    "execution_count": 41, 
                    "output_type": "execute_result", 
                    "metadata": {}
                }
            ], 
            "metadata": {
                "collapsed": false
            }
        }, 
        {
            "source": "from pyspark.sql import SQLContext\nsqlContext = SQLContext(sc)\n\n# @hidden_cell\n# This function is used to setup the access of Spark to your Object Storage. The definition contains your credentials.\n# You might want to remove those credentials before you share your notebook.\ndef set_hadoop_config_with_credentials_19099026f8df40b6aec4353c7e897e95(name):\n    \"\"\"This function sets the Hadoop configuration so it is possible to\n    access data from Bluemix Object Storage using Spark\"\"\"\n\n    prefix = 'fs.swift.service.' + name\n    hconf = sc._jsc.hadoopConfiguration()\n    hconf.set(prefix + '.auth.url', 'https://identity.open.softlayer.com'+'/v3/auth/tokens')\n    hconf.set(prefix + '.auth.endpoint.prefix', 'endpoints')\n    hconf.set(prefix + '.tenant', 'cc29768790ec45439a43668592b02f84')\n    hconf.set(prefix + '.username', 'd47dac60c7684410842aa453908da4ca')\n    hconf.set(prefix + '.password', 'R1o7wzw?37&dHIMq')\n    hconf.setInt(prefix + '.http.port', 8080)\n    hconf.set(prefix + '.region', 'dallas')\n    hconf.setBoolean(prefix + '.public', False)\n\n# you can choose any name\nname = 'keystone'\nset_hadoop_config_with_credentials_19099026f8df40b6aec4353c7e897e95(name)\n\ntrain = sqlContext.read.format('com.databricks.spark.csv')\\\n  .options(header='true', inferschema='true')\\\n  .load(\"swift://DatabricksSpark.\" + name + \"/train.csv\")\ntrain.take(5)", 
            "execution_count": 42, 
            "cell_type": "code", 
            "outputs": [
                {
                    "data": {
                        "text/plain": "[Row(User_ID=1000001, Product_ID=u'P00069042', Gender=u'F', Age=u'0-17', Occupation=10, City_Category=u'A', Stay_In_Current_City_Years=u'2', Marital_Status=0, Product_Category_1=3, Product_Category_2=None, Product_Category_3=None, Purchase=8370),\n Row(User_ID=1000001, Product_ID=u'P00248942', Gender=u'F', Age=u'0-17', Occupation=10, City_Category=u'A', Stay_In_Current_City_Years=u'2', Marital_Status=0, Product_Category_1=1, Product_Category_2=6, Product_Category_3=14, Purchase=15200),\n Row(User_ID=1000001, Product_ID=u'P00087842', Gender=u'F', Age=u'0-17', Occupation=10, City_Category=u'A', Stay_In_Current_City_Years=u'2', Marital_Status=0, Product_Category_1=12, Product_Category_2=None, Product_Category_3=None, Purchase=1422),\n Row(User_ID=1000001, Product_ID=u'P00085442', Gender=u'F', Age=u'0-17', Occupation=10, City_Category=u'A', Stay_In_Current_City_Years=u'2', Marital_Status=0, Product_Category_1=12, Product_Category_2=14, Product_Category_3=None, Purchase=1057),\n Row(User_ID=1000002, Product_ID=u'P00285442', Gender=u'M', Age=u'55+', Occupation=16, City_Category=u'C', Stay_In_Current_City_Years=u'4+', Marital_Status=0, Product_Category_1=8, Product_Category_2=None, Product_Category_3=None, Purchase=7969)]"
                    }, 
                    "execution_count": 42, 
                    "output_type": "execute_result", 
                    "metadata": {}
                }
            ], 
            "metadata": {
                "collapsed": false
            }
        }, 
        {
            "source": "from pyspark.sql import SQLContext\nsqlContext = SQLContext(sc)\n\n# @hidden_cell\n# This function is used to setup the access of Spark to your Object Storage. The definition contains your credentials.\n# You might want to remove those credentials before you share your notebook.\ndef set_hadoop_config_with_credentials_19099026f8df40b6aec4353c7e897e95(name):\n    \"\"\"This function sets the Hadoop configuration so it is possible to\n    access data from Bluemix Object Storage using Spark\"\"\"\n\n    prefix = 'fs.swift.service.' + name\n    hconf = sc._jsc.hadoopConfiguration()\n    hconf.set(prefix + '.auth.url', 'https://identity.open.softlayer.com'+'/v3/auth/tokens')\n    hconf.set(prefix + '.auth.endpoint.prefix', 'endpoints')\n    hconf.set(prefix + '.tenant', 'cc29768790ec45439a43668592b02f84')\n    hconf.set(prefix + '.username', 'd47dac60c7684410842aa453908da4ca')\n    hconf.set(prefix + '.password', 'R1o7wzw?37&dHIMq')\n    hconf.setInt(prefix + '.http.port', 8080)\n    hconf.set(prefix + '.region', 'dallas')\n    hconf.setBoolean(prefix + '.public', False)\n\n# you can choose any name\nname = 'keystone'\nset_hadoop_config_with_credentials_19099026f8df40b6aec4353c7e897e95(name)\n\ntest = sqlContext.read.format('com.databricks.spark.csv')\\\n  .options(header='true', inferschema='true')\\\n  .load(\"swift://DatabricksSpark.\" + name + \"/test.csv\")\ntest.take(5)", 
            "execution_count": 43, 
            "cell_type": "code", 
            "outputs": [
                {
                    "data": {
                        "text/plain": "[Row(User_ID=1000004, Product_ID=u'P00128942', Gender=u'M', Age=u'46-50', Occupation=7, City_Category=u'B', Stay_In_Current_City_Years=u'2', Marital_Status=1, Product_Category_1=1, Product_Category_2=11, Product_Category_3=None),\n Row(User_ID=1000009, Product_ID=u'P00113442', Gender=u'M', Age=u'26-35', Occupation=17, City_Category=u'C', Stay_In_Current_City_Years=u'0', Marital_Status=0, Product_Category_1=3, Product_Category_2=5, Product_Category_3=None),\n Row(User_ID=1000010, Product_ID=u'P00288442', Gender=u'F', Age=u'36-45', Occupation=1, City_Category=u'B', Stay_In_Current_City_Years=u'4+', Marital_Status=1, Product_Category_1=5, Product_Category_2=14, Product_Category_3=None),\n Row(User_ID=1000010, Product_ID=u'P00145342', Gender=u'F', Age=u'36-45', Occupation=1, City_Category=u'B', Stay_In_Current_City_Years=u'4+', Marital_Status=1, Product_Category_1=4, Product_Category_2=9, Product_Category_3=None),\n Row(User_ID=1000011, Product_ID=u'P00053842', Gender=u'F', Age=u'26-35', Occupation=1, City_Category=u'C', Stay_In_Current_City_Years=u'1', Marital_Status=0, Product_Category_1=4, Product_Category_2=5, Product_Category_3=12)]"
                    }, 
                    "execution_count": 43, 
                    "output_type": "execute_result", 
                    "metadata": {}
                }
            ], 
            "metadata": {
                "collapsed": false
            }
        }, 
        {
            "source": "#Analyze the data type\ntrain.printSchema()", 
            "execution_count": 44, 
            "cell_type": "code", 
            "outputs": [
                {
                    "name": "stdout", 
                    "text": "root\n |-- User_ID: integer (nullable = true)\n |-- Product_ID: string (nullable = true)\n |-- Gender: string (nullable = true)\n |-- Age: string (nullable = true)\n |-- Occupation: integer (nullable = true)\n |-- City_Category: string (nullable = true)\n |-- Stay_In_Current_City_Years: string (nullable = true)\n |-- Marital_Status: integer (nullable = true)\n |-- Product_Category_1: integer (nullable = true)\n |-- Product_Category_2: integer (nullable = true)\n |-- Product_Category_3: integer (nullable = true)\n |-- Purchase: integer (nullable = true)\n\n", 
                    "output_type": "stream"
                }
            ], 
            "metadata": {
                "collapsed": false
            }
        }, 
        {
            "source": "#Previewing the data set\ntrain.head(10)", 
            "execution_count": 45, 
            "cell_type": "code", 
            "outputs": [
                {
                    "data": {
                        "text/plain": "[Row(User_ID=1000001, Product_ID=u'P00069042', Gender=u'F', Age=u'0-17', Occupation=10, City_Category=u'A', Stay_In_Current_City_Years=u'2', Marital_Status=0, Product_Category_1=3, Product_Category_2=None, Product_Category_3=None, Purchase=8370),\n Row(User_ID=1000001, Product_ID=u'P00248942', Gender=u'F', Age=u'0-17', Occupation=10, City_Category=u'A', Stay_In_Current_City_Years=u'2', Marital_Status=0, Product_Category_1=1, Product_Category_2=6, Product_Category_3=14, Purchase=15200),\n Row(User_ID=1000001, Product_ID=u'P00087842', Gender=u'F', Age=u'0-17', Occupation=10, City_Category=u'A', Stay_In_Current_City_Years=u'2', Marital_Status=0, Product_Category_1=12, Product_Category_2=None, Product_Category_3=None, Purchase=1422),\n Row(User_ID=1000001, Product_ID=u'P00085442', Gender=u'F', Age=u'0-17', Occupation=10, City_Category=u'A', Stay_In_Current_City_Years=u'2', Marital_Status=0, Product_Category_1=12, Product_Category_2=14, Product_Category_3=None, Purchase=1057),\n Row(User_ID=1000002, Product_ID=u'P00285442', Gender=u'M', Age=u'55+', Occupation=16, City_Category=u'C', Stay_In_Current_City_Years=u'4+', Marital_Status=0, Product_Category_1=8, Product_Category_2=None, Product_Category_3=None, Purchase=7969),\n Row(User_ID=1000003, Product_ID=u'P00193542', Gender=u'M', Age=u'26-35', Occupation=15, City_Category=u'A', Stay_In_Current_City_Years=u'3', Marital_Status=0, Product_Category_1=1, Product_Category_2=2, Product_Category_3=None, Purchase=15227),\n Row(User_ID=1000004, Product_ID=u'P00184942', Gender=u'M', Age=u'46-50', Occupation=7, City_Category=u'B', Stay_In_Current_City_Years=u'2', Marital_Status=1, Product_Category_1=1, Product_Category_2=8, Product_Category_3=17, Purchase=19215),\n Row(User_ID=1000004, Product_ID=u'P00346142', Gender=u'M', Age=u'46-50', Occupation=7, City_Category=u'B', Stay_In_Current_City_Years=u'2', Marital_Status=1, Product_Category_1=1, Product_Category_2=15, Product_Category_3=None, Purchase=15854),\n Row(User_ID=1000004, Product_ID=u'P0097242', Gender=u'M', Age=u'46-50', Occupation=7, City_Category=u'B', Stay_In_Current_City_Years=u'2', Marital_Status=1, Product_Category_1=1, Product_Category_2=16, Product_Category_3=None, Purchase=15686),\n Row(User_ID=1000005, Product_ID=u'P00274942', Gender=u'M', Age=u'26-35', Occupation=20, City_Category=u'A', Stay_In_Current_City_Years=u'1', Marital_Status=1, Product_Category_1=8, Product_Category_2=None, Product_Category_3=None, Purchase=7871)]"
                    }, 
                    "execution_count": 45, 
                    "output_type": "execute_result", 
                    "metadata": {}
                }
            ], 
            "metadata": {
                "collapsed": false
            }
        }, 
        {
            "source": "train.count()", 
            "execution_count": 46, 
            "cell_type": "code", 
            "outputs": [
                {
                    "data": {
                        "text/plain": "550068"
                    }, 
                    "execution_count": 46, 
                    "output_type": "execute_result", 
                    "metadata": {}
                }
            ], 
            "metadata": {
                "collapsed": false
            }
        }, 
        {
            "source": "# Impute Missing values\ntrain.na.drop().count(),test.na.drop('any').count()", 
            "execution_count": 47, 
            "cell_type": "code", 
            "outputs": [
                {
                    "data": {
                        "text/plain": "(166821, 71037)"
                    }, 
                    "execution_count": 47, 
                    "output_type": "execute_result", 
                    "metadata": {}
                }
            ], 
            "metadata": {
                "collapsed": false
            }
        }, 
        {
            "source": "train = train.fillna(-1)\ntest = test.fillna(-1)", 
            "execution_count": 48, 
            "cell_type": "code", 
            "outputs": [], 
            "metadata": {
                "collapsed": true
            }
        }, 
        {
            "source": "# Analyzing numerical features\ntrain.describe().show()", 
            "execution_count": 53, 
            "cell_type": "code", 
            "outputs": [
                {
                    "name": "stdout", 
                    "text": "+-------+------------------+-----------------+-------------------+------------------+------------------+------------------+------------------+\n|summary|           User_ID|       Occupation|     Marital_Status|Product_Category_1|Product_Category_2|Product_Category_3|          Purchase|\n+-------+------------------+-----------------+-------------------+------------------+------------------+------------------+------------------+\n|  count|            550068|           550068|             550068|            550068|            550068|            550068|            550068|\n|   mean|1003028.8424013031|8.076706879876669|0.40965298835780306| 5.404270017525106| 6.419769919355425| 3.145214773446192| 9263.968712959126|\n| stddev|1727.5915855308265|6.522660487341778| 0.4917701263173273|3.9362113692014082| 6.565109781181287| 6.681038828257762|5023.0653938206015|\n|    min|           1000001|                0|                  0|                 1|                -1|                -1|                12|\n|    max|           1006040|               20|                  1|                20|                18|                18|             23961|\n+-------+------------------+-----------------+-------------------+------------------+------------------+------------------+------------------+\n\n", 
                    "output_type": "stream"
                }
            ], 
            "metadata": {
                "collapsed": false
            }
        }, 
        {
            "source": "#Sub-setting Columns\ntrain.select('User_ID').show(5)", 
            "execution_count": 54, 
            "cell_type": "code", 
            "outputs": [
                {
                    "name": "stdout", 
                    "text": "+-------+\n|User_ID|\n+-------+\n|1000001|\n|1000001|\n|1000001|\n|1000001|\n|1000002|\n+-------+\nonly showing top 5 rows\n\n", 
                    "output_type": "stream"
                }
            ], 
            "metadata": {
                "collapsed": false
            }
        }, 
        {
            "source": "# Analyzing categorical features\ntrain.select('Product_ID').distinct().count(), test.select('Product_ID').distinct().count()", 
            "execution_count": 55, 
            "cell_type": "code", 
            "outputs": [
                {
                    "data": {
                        "text/plain": "(3631, 3491)"
                    }, 
                    "execution_count": 55, 
                    "output_type": "execute_result", 
                    "metadata": {}
                }
            ], 
            "metadata": {
                "collapsed": false
            }
        }, 
        {
            "source": "diff_cat_in_train_test=test.select('Product_ID').subtract(train.select('Product_ID'))\ndiff_cat_in_train_test.distinct().count() # For distict count", 
            "execution_count": 56, 
            "cell_type": "code", 
            "outputs": [
                {
                    "data": {
                        "text/plain": "46"
                    }, 
                    "execution_count": 56, 
                    "output_type": "execute_result", 
                    "metadata": {}
                }
            ], 
            "metadata": {
                "collapsed": false
            }
        }, 
        {
            "source": "# Transforming categorical variables to labels\nfrom pyspark.ml.feature import StringIndexer\nplan_indexer = StringIndexer(inputCol = 'Product_ID', outputCol = 'product_ID')\nlabeller = plan_indexer.fit(train)", 
            "execution_count": 57, 
            "cell_type": "code", 
            "outputs": [], 
            "metadata": {
                "collapsed": true
            }
        }, 
        {
            "source": "Train1 = labeller.transform(train)\nTest1 = labeller.transform(test)", 
            "execution_count": 58, 
            "cell_type": "code", 
            "outputs": [], 
            "metadata": {
                "collapsed": true
            }
        }, 
        {
            "source": "Train1.show()", 
            "execution_count": 59, 
            "cell_type": "code", 
            "outputs": [
                {
                    "name": "stdout", 
                    "text": "+-------+----------+------+-----+----------+-------------+--------------------------+--------------+------------------+------------------+------------------+--------+----------+\n|User_ID|Product_ID|Gender|  Age|Occupation|City_Category|Stay_In_Current_City_Years|Marital_Status|Product_Category_1|Product_Category_2|Product_Category_3|Purchase|product_ID|\n+-------+----------+------+-----+----------+-------------+--------------------------+--------------+------------------+------------------+------------------+--------+----------+\n|1000001| P00069042|     F| 0-17|        10|            A|                         2|             0|                 3|                -1|                -1|    8370|     766.0|\n|1000001| P00248942|     F| 0-17|        10|            A|                         2|             0|                 1|                 6|                14|   15200|     183.0|\n|1000001| P00087842|     F| 0-17|        10|            A|                         2|             0|                12|                -1|                -1|    1422|    1496.0|\n|1000001| P00085442|     F| 0-17|        10|            A|                         2|             0|                12|                14|                -1|    1057|     481.0|\n|1000002| P00285442|     M|  55+|        16|            C|                        4+|             0|                 8|                -1|                -1|    7969|     860.0|\n|1000003| P00193542|     M|26-35|        15|            A|                         3|             0|                 1|                 2|                -1|   15227|     157.0|\n|1000004| P00184942|     M|46-50|         7|            B|                         2|             1|                 1|                 8|                17|   19215|       5.0|\n|1000004| P00346142|     M|46-50|         7|            B|                         2|             1|                 1|                15|                -1|   15854|     177.0|\n|1000004|  P0097242|     M|46-50|         7|            B|                         2|             1|                 1|                16|                -1|   15686|      51.0|\n|1000005| P00274942|     M|26-35|        20|            A|                         1|             1|                 8|                -1|                -1|    7871|      78.0|\n|1000005| P00251242|     M|26-35|        20|            A|                         1|             1|                 5|                11|                -1|    5254|      27.0|\n|1000005| P00014542|     M|26-35|        20|            A|                         1|             1|                 8|                -1|                -1|    3957|     128.0|\n|1000005| P00031342|     M|26-35|        20|            A|                         1|             1|                 8|                -1|                -1|    6073|    2318.0|\n|1000005| P00145042|     M|26-35|        20|            A|                         1|             1|                 1|                 2|                 5|   15665|       9.0|\n|1000006| P00231342|     F|51-55|         9|            A|                         1|             0|                 5|                 8|                14|    5378|    1680.0|\n|1000006| P00190242|     F|51-55|         9|            A|                         1|             0|                 4|                 5|                -1|    2079|     927.0|\n|1000006|  P0096642|     F|51-55|         9|            A|                         1|             0|                 2|                 3|                 4|   13055|    1000.0|\n|1000006| P00058442|     F|51-55|         9|            A|                         1|             0|                 5|                14|                -1|    8851|     209.0|\n|1000007| P00036842|     M|36-45|         1|            B|                         1|             1|                 1|                14|                16|   11788|      58.0|\n|1000008| P00249542|     M|26-35|        12|            C|                        4+|             1|                 1|                 5|                15|   19614|      81.0|\n+-------+----------+------+-----+----------+-------------+--------------------------+--------------+------------------+------------------+------------------+--------+----------+\nonly showing top 20 rows\n\n", 
                    "output_type": "stream"
                }
            ], 
            "metadata": {
                "collapsed": false
            }
        }, 
        {
            "source": "t1 = formula.fit(Train1)\ntrain1 = t1.transform(Train1)\ntest1 = t1.transform(Test1)", 
            "execution_count": 60, 
            "cell_type": "code", 
            "outputs": [], 
            "metadata": {
                "collapsed": true
            }
        }, 
        {
            "source": "train1.show()", 
            "execution_count": 61, 
            "cell_type": "code", 
            "outputs": [
                {
                    "name": "stdout", 
                    "text": "+-------+----------+------+-----+----------+-------------+--------------------------+--------------+------------------+------------------+------------------+--------+----------+--------------------+-------+\n|User_ID|Product_ID|Gender|  Age|Occupation|City_Category|Stay_In_Current_City_Years|Marital_Status|Product_Category_1|Product_Category_2|Product_Category_3|Purchase|product_ID|            features|  label|\n+-------+----------+------+-----+----------+-------------+--------------------------+--------------+------------------+------------------+------------------+--------+----------+--------------------+-------+\n|1000001| P00069042|     F| 0-17|        10|            A|                         2|             0|                 3|                -1|                -1|    8370|     766.0|(16,[6,10,13,14],...| 8370.0|\n|1000001| P00248942|     F| 0-17|        10|            A|                         2|             0|                 1|                 6|                14|   15200|     183.0|(16,[6,10,13,14],...|15200.0|\n|1000001| P00087842|     F| 0-17|        10|            A|                         2|             0|                12|                -1|                -1|    1422|    1496.0|(16,[6,10,13,14],...| 1422.0|\n|1000001| P00085442|     F| 0-17|        10|            A|                         2|             0|                12|                14|                -1|    1057|     481.0|(16,[6,10,13,14],...| 1057.0|\n|1000002| P00285442|     M|  55+|        16|            C|                        4+|             0|                 8|                -1|                -1|    7969|     860.0|(16,[5,6,8,12,13,...| 7969.0|\n|1000003| P00193542|     M|26-35|        15|            A|                         3|             0|                 1|                 2|                -1|   15227|     157.0|(16,[0,6,11,13,14...|15227.0|\n|1000004| P00184942|     M|46-50|         7|            B|                         2|             1|                 1|                 8|                17|   19215|       5.0|(16,[3,6,7,10,13,...|19215.0|\n|1000004| P00346142|     M|46-50|         7|            B|                         2|             1|                 1|                15|                -1|   15854|     177.0|(16,[3,6,7,10,13,...|15854.0|\n|1000004|  P0097242|     M|46-50|         7|            B|                         2|             1|                 1|                16|                -1|   15686|      51.0|(16,[3,6,7,10,13,...|15686.0|\n|1000005| P00274942|     M|26-35|        20|            A|                         1|             1|                 8|                -1|                -1|    7871|      78.0|(16,[0,6,9,13,14,...| 7871.0|\n|1000005| P00251242|     M|26-35|        20|            A|                         1|             1|                 5|                11|                -1|    5254|      27.0|(16,[0,6,9,13,14,...| 5254.0|\n|1000005| P00014542|     M|26-35|        20|            A|                         1|             1|                 8|                -1|                -1|    3957|     128.0|(16,[0,6,9,13,14,...| 3957.0|\n|1000005| P00031342|     M|26-35|        20|            A|                         1|             1|                 8|                -1|                -1|    6073|    2318.0|(16,[0,6,9,13,14,...| 6073.0|\n|1000005| P00145042|     M|26-35|        20|            A|                         1|             1|                 1|                 2|                 5|   15665|       9.0|(16,[0,6,9,13,14,...|15665.0|\n|1000006| P00231342|     F|51-55|         9|            A|                         1|             0|                 5|                 8|                14|    5378|    1680.0|(16,[4,6,9,13,14]...| 5378.0|\n|1000006| P00190242|     F|51-55|         9|            A|                         1|             0|                 4|                 5|                -1|    2079|     927.0|(16,[4,6,9,13,14]...| 2079.0|\n|1000006|  P0096642|     F|51-55|         9|            A|                         1|             0|                 2|                 3|                 4|   13055|    1000.0|(16,[4,6,9,13,14]...|13055.0|\n|1000006| P00058442|     F|51-55|         9|            A|                         1|             0|                 5|                14|                -1|    8851|     209.0|(16,[4,6,9,13,14]...| 8851.0|\n|1000007| P00036842|     M|36-45|         1|            B|                         1|             1|                 1|                14|                16|   11788|      58.0|(16,[1,6,7,9,13,1...|11788.0|\n|1000008| P00249542|     M|26-35|        12|            C|                        4+|             1|                 1|                 5|                15|   19614|      81.0|(16,[0,6,8,12,13,...|19614.0|\n+-------+----------+------+-----+----------+-------------+--------------------------+--------------+------------------+------------------+------------------+--------+----------+--------------------+-------+\nonly showing top 20 rows\n\n", 
                    "output_type": "stream"
                }
            ], 
            "metadata": {
                "collapsed": false
            }
        }, 
        {
            "source": "train1.select('features').show()\n", 
            "execution_count": null, 
            "cell_type": "code", 
            "outputs": [
                {
                    "name": "stdout", 
                    "text": "+--------------------+\n|            features|\n+--------------------+\n|(16,[6,10,13,14],...|\n|(16,[6,10,13,14],...|\n|(16,[6,10,13,14],...|\n|(16,[6,10,13,14],...|\n|(16,[5,6,8,12,13,...|\n|(16,[0,6,11,13,14...|\n|(16,[3,6,7,10,13,...|\n|(16,[3,6,7,10,13,...|\n|(16,[3,6,7,10,13,...|\n|(16,[0,6,9,13,14,...|\n|(16,[0,6,9,13,14,...|\n|(16,[0,6,9,13,14,...|\n|(16,[0,6,9,13,14,...|\n|(16,[0,6,9,13,14,...|\n|(16,[4,6,9,13,14]...|\n|(16,[4,6,9,13,14]...|\n|(16,[4,6,9,13,14]...|\n|(16,[4,6,9,13,14]...|\n|(16,[1,6,7,9,13,1...|\n|(16,[0,6,8,12,13,...|\n+--------------------+\nonly showing top 20 rows\n\n", 
                    "output_type": "stream"
                }
            ], 
            "metadata": {
                "collapsed": false
            }
        }, 
        {
            "source": "train1.select('label').show()", 
            "execution_count": 63, 
            "cell_type": "code", 
            "outputs": [
                {
                    "name": "stdout", 
                    "text": "+-------+\n|  label|\n+-------+\n| 8370.0|\n|15200.0|\n| 1422.0|\n| 1057.0|\n| 7969.0|\n|15227.0|\n|19215.0|\n|15854.0|\n|15686.0|\n| 7871.0|\n| 5254.0|\n| 3957.0|\n| 6073.0|\n|15665.0|\n| 5378.0|\n| 2079.0|\n|13055.0|\n| 8851.0|\n|11788.0|\n|19614.0|\n+-------+\nonly showing top 20 rows\n\n", 
                    "output_type": "stream"
                }
            ], 
            "metadata": {
                "collapsed": false
            }
        }, 
        {
            "source": "# Building a Machine Learning Model: Random Forest", 
            "execution_count": null, 
            "cell_type": "code", 
            "outputs": [], 
            "metadata": {
                "collapsed": true
            }
        }, 
        {
            "source": "from pyspark.ml.regression import RandomForestRegressor\nrf = RandomForestRegressor()", 
            "execution_count": 64, 
            "cell_type": "code", 
            "outputs": [], 
            "metadata": {
                "collapsed": true
            }
        }, 
        {
            "source": "(train_cv, test_cv) = train1.randomSplit([0.7, 0.3])", 
            "execution_count": 65, 
            "cell_type": "code", 
            "outputs": [], 
            "metadata": {
                "collapsed": true
            }
        }, 
        {
            "source": "model1 = rf.fit(train_cv)\npredictions = model1.transform(test_cv)", 
            "execution_count": 66, 
            "cell_type": "code", 
            "outputs": [], 
            "metadata": {
                "collapsed": true
            }
        }, 
        {
            "source": "from pyspark.ml.evaluation import RegressionEvaluator\nevaluator = RegressionEvaluator()\nmse = evaluator.evaluate(predictions,{evaluator.metricName:\"mse\" })\nimport numpy as np\nnp.sqrt(mse), mse", 
            "execution_count": 67, 
            "cell_type": "code", 
            "outputs": [
                {
                    "data": {
                        "text/plain": "(3826.4841959988944, 14641981.302229306)"
                    }, 
                    "execution_count": 67, 
                    "output_type": "execute_result", 
                    "metadata": {}
                }
            ], 
            "metadata": {
                "collapsed": false
            }
        }, 
        {
            "source": "model = rf.fit(train1)\npredictions1 = model.transform(test1)", 
            "execution_count": 68, 
            "cell_type": "code", 
            "outputs": [], 
            "metadata": {
                "collapsed": true
            }
        }, 
        {
            "source": "df = predictions1.selectExpr(\"User_ID as User_ID\", \"Product_ID as Product_ID\", 'prediction as Purchase')", 
            "execution_count": 69, 
            "cell_type": "code", 
            "outputs": [], 
            "metadata": {
                "collapsed": true
            }
        }, 
        {
            "source": "## Did not work\n## df.toPandas().to_csv(\"swift://\"+ \"DatabricksSpark.\" + name + \"/submission1.csv\",index=False)", 
            "execution_count": 89, 
            "cell_type": "code", 
            "outputs": [], 
            "metadata": {
                "collapsed": false
            }
        }, 
        {
            "source": "# this worked with Spark dataframe\n# Overwrite not working http://bit.ly/2jw5aWO\n\nfileNameOut = \"swift://\"+ \"DatabricksSpark.\" + name + \"/submission1.csv\"\ndf.write.format('com.databricks.spark.csv').options(header='true').save(fileNameOut)", 
            "execution_count": 92, 
            "cell_type": "code", 
            "outputs": [], 
            "metadata": {
                "collapsed": false
            }
        }, 
        {
            "source": "\nfrom pyspark.sql import SQLContext\nsqlContext = SQLContext(sc)\n\n# @hidden_cell\n# This function is used to setup the access of Spark to your Object Storage. The definition contains your credentials.\n# You might want to remove those credentials before you share your notebook.\ndef set_hadoop_config_with_credentials_19099026f8df40b6aec4353c7e897e95(name):\n    \"\"\"This function sets the Hadoop configuration so it is possible to\n    access data from Bluemix Object Storage using Spark\"\"\"\n\n    prefix = 'fs.swift.service.' + name\n    hconf = sc._jsc.hadoopConfiguration()\n    hconf.set(prefix + '.auth.url', 'https://identity.open.softlayer.com'+'/v3/auth/tokens')\n    hconf.set(prefix + '.auth.endpoint.prefix', 'endpoints')\n    hconf.set(prefix + '.tenant', 'cc29768790ec45439a43668592b02f84')\n    hconf.set(prefix + '.username', 'd47dac60c7684410842aa453908da4ca')\n    hconf.set(prefix + '.password', 'R1o7wzw?37&dHIMq')\n    hconf.setInt(prefix + '.http.port', 8080)\n    hconf.set(prefix + '.region', 'dallas')\n    hconf.setBoolean(prefix + '.public', False)\n\n# you can choose any name\nname = 'keystone'\nset_hadoop_config_with_credentials_19099026f8df40b6aec4353c7e897e95(name)\n\ndf_data_1 = sqlContext.read.format('com.databricks.spark.csv')\\\n  .options(header='true', inferschema='true')\\\n  .load(\"swift://DatabricksSpark.\" + name + \"/submission.csv\")\ndf_data_1.take(5)\n", 
            "execution_count": 83, 
            "cell_type": "code", 
            "outputs": [
                {
                    "data": {
                        "text/plain": "[Row(User_ID=1000004, Product_ID=u'P00128942', Purchase=13392.424905928661),\n Row(User_ID=1000009, Product_ID=u'P00113442', Purchase=7917.352350629922),\n Row(User_ID=1000010, Product_ID=u'P00288442', Purchase=6478.243920429045),\n Row(User_ID=1000010, Product_ID=u'P00145342', Purchase=5853.415312002871),\n Row(User_ID=1000011, Product_ID=u'P00053842', Purchase=6492.888395717076)]"
                    }, 
                    "execution_count": 83, 
                    "output_type": "execute_result", 
                    "metadata": {}
                }
            ], 
            "metadata": {
                "collapsed": false
            }
        }, 
        {
            "source": "", 
            "execution_count": null, 
            "cell_type": "code", 
            "outputs": [], 
            "metadata": {
                "collapsed": true
            }
        }
    ], 
    "nbformat": 4, 
    "metadata": {
        "kernelspec": {
            "name": "python2", 
            "language": "python", 
            "display_name": "Python 2 with Spark 1.6"
        }, 
        "language_info": {
            "codemirror_mode": {
                "name": "ipython", 
                "version": 2
            }, 
            "name": "python", 
            "pygments_lexer": "ipython2", 
            "mimetype": "text/x-python", 
            "nbconvert_exporter": "python", 
            "file_extension": ".py", 
            "version": "2.7.11"
        }
    }
}