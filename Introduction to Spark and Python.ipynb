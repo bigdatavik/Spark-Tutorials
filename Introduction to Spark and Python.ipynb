{
    "nbformat_minor": 0, 
    "nbformat": 4, 
    "cells": [
        {
            "source": "# Introduction to Spark and Python\n\nLet's learn how to use Spark with Python by using the pyspark library! Make sure to view the video lecture explaining Spark and RDDs before continuing on with this code.\n\nThis notebook will serve as reference code for the Big Data section of the course involving Amazon Web Services. The video will provide fuller explanations for what the code is doing.\n\n## Creating a SparkContext\n\nFirst we need to create a SparkContext. We will import this from pyspark:", 
            "cell_type": "markdown", 
            "metadata": {}
        }, 
        {
            "source": "# from pyspark import SparkContext", 
            "execution_count": 1, 
            "outputs": [], 
            "cell_type": "code", 
            "metadata": {
                "collapsed": true
            }
        }, 
        {
            "source": "Now create the SparkContext,A SparkContext represents the connection to a Spark cluster, and can be used to create an RDD and broadcast variables on that cluster.\n\n*Note! You can only have one SparkContext at a time the way we are running things here.*", 
            "cell_type": "markdown", 
            "metadata": {}
        }, 
        {
            "source": "# sc = SparkContext()", 
            "execution_count": 4, 
            "outputs": [], 
            "cell_type": "code", 
            "metadata": {
                "collapsed": false
            }
        }, 
        {
            "source": "# Spark context alreday exists!\nsc", 
            "execution_count": 1, 
            "outputs": [
                {
                    "output_type": "execute_result", 
                    "execution_count": 1, 
                    "data": {
                        "text/plain": "<pyspark.context.SparkContext at 0x7f33d6bae450>"
                    }, 
                    "metadata": {}
                }
            ], 
            "cell_type": "code", 
            "metadata": {
                "collapsed": false
            }
        }, 
        {
            "source": "sc.version", 
            "execution_count": 2, 
            "outputs": [
                {
                    "output_type": "execute_result", 
                    "execution_count": 2, 
                    "data": {
                        "text/plain": "u'1.6.0'"
                    }, 
                    "metadata": {}
                }
            ], 
            "cell_type": "code", 
            "metadata": {
                "collapsed": false
            }
        }, 
        {
            "source": "## Basic Operations\n\nWe're going to start with a 'hello world' example, which is just reading a text file. First let's create a text file.\n___", 
            "cell_type": "markdown", 
            "metadata": {}
        }, 
        {
            "source": "Let's write an example text file to read, we'll use some special jupyter notebook commands for this, but feel free to use any .txt file:", 
            "cell_type": "markdown", 
            "metadata": {
                "collapsed": true
            }
        }, 
        {
            "source": "%%writefile example.txt\nfirst line\nsecond line\nthird line\nfourth line", 
            "execution_count": 3, 
            "outputs": [
                {
                    "output_type": "stream", 
                    "text": "Overwriting example.txt\n", 
                    "name": "stdout"
                }
            ], 
            "cell_type": "code", 
            "metadata": {
                "collapsed": false
            }
        }, 
        {
            "source": "### Creating the RDD", 
            "cell_type": "markdown", 
            "metadata": {}
        }, 
        {
            "source": "Now we can take in the textfile using the **textFile** method off of the SparkContext we created. This method will read a text file from HDFS, a local file system (available on all\nnodes), or any Hadoop-supported file system URI, and return it as an RDD of Strings.", 
            "cell_type": "markdown", 
            "metadata": {}
        }, 
        {
            "source": "textFile = sc.textFile('example.txt')", 
            "execution_count": 4, 
            "outputs": [], 
            "cell_type": "code", 
            "metadata": {
                "collapsed": true
            }
        }, 
        {
            "source": "Spark\u2019s primary abstraction is a distributed collection of items called a Resilient Distributed Dataset (RDD). RDDs can be created from Hadoop InputFormats (such as HDFS files) or by transforming other RDDs. \n\n### Actions\n\nWe have just created an RDD using the textFile method and can perform operations on this object, such as counting the rows.\n\nRDDs have actions, which return values, and transformations, which return pointers to new RDDs. Let\u2019s start with a few actions:", 
            "cell_type": "markdown", 
            "metadata": {}
        }, 
        {
            "source": "textFile.count()", 
            "execution_count": 5, 
            "outputs": [
                {
                    "output_type": "execute_result", 
                    "execution_count": 5, 
                    "data": {
                        "text/plain": "4"
                    }, 
                    "metadata": {}
                }
            ], 
            "cell_type": "code", 
            "metadata": {
                "collapsed": false
            }
        }, 
        {
            "source": "textFile.first()", 
            "execution_count": 6, 
            "outputs": [
                {
                    "output_type": "execute_result", 
                    "execution_count": 6, 
                    "data": {
                        "text/plain": "u'first line'"
                    }, 
                    "metadata": {}
                }
            ], 
            "cell_type": "code", 
            "metadata": {
                "collapsed": false
            }
        }, 
        {
            "source": "### Transformations\n\nNow we can use transformations, for example the filter transformation will return a new RDD with a subset of items in the file. Let's create a sample transformation using the filter() method. This method (just like Python's own filter function) will only return elements that satisfy the condition. Let's try looking for lines that contain the word 'second'. In which case, there should only be one line that has that.", 
            "cell_type": "markdown", 
            "metadata": {}
        }, 
        {
            "source": "secfind = textFile.filter(lambda line: 'second' in line)", 
            "execution_count": null, 
            "outputs": [], 
            "cell_type": "code", 
            "metadata": {
                "collapsed": true
            }
        }, 
        {
            "source": "# RDD\nsecfind", 
            "execution_count": null, 
            "outputs": [], 
            "cell_type": "code", 
            "metadata": {
                "collapsed": false
            }
        }, 
        {
            "source": "# Perform action on transformation\nsecfind.collect()", 
            "execution_count": null, 
            "outputs": [], 
            "cell_type": "code", 
            "metadata": {
                "collapsed": false
            }
        }, 
        {
            "source": "# Perform action on transformation\nsecfind.count()", 
            "execution_count": null, 
            "outputs": [], 
            "cell_type": "code", 
            "metadata": {
                "collapsed": false
            }
        }, 
        {
            "source": "Notice how the transformations won't display an output and won't be run until an action is called. In the next lecture: Advanced Spark and Python we will begin to see many more examples of this transformation and action relationship!\n\n# Great Job!", 
            "cell_type": "markdown", 
            "metadata": {}
        }, 
        {
            "source": "", 
            "execution_count": null, 
            "outputs": [], 
            "cell_type": "code", 
            "metadata": {
                "collapsed": true
            }
        }
    ], 
    "metadata": {
        "kernelspec": {
            "name": "python2", 
            "display_name": "Python 2 with Spark 1.6", 
            "language": "python"
        }, 
        "language_info": {
            "version": "2.7.11", 
            "file_extension": ".py", 
            "codemirror_mode": {
                "version": 2, 
                "name": "ipython"
            }, 
            "nbconvert_exporter": "python", 
            "mimetype": "text/x-python", 
            "pygments_lexer": "ipython2", 
            "name": "python"
        }
    }
}