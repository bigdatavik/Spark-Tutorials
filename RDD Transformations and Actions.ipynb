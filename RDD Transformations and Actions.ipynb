{
    "nbformat_minor": 0, 
    "metadata": {
        "kernelspec": {
            "name": "python3", 
            "display_name": "Python 3.5 (Experimental) with Spark 1.6", 
            "language": "python"
        }, 
        "language_info": {
            "mimetype": "text/x-python", 
            "codemirror_mode": {
                "name": "ipython", 
                "version": 3
            }, 
            "pygments_lexer": "ipython3", 
            "name": "python", 
            "nbconvert_exporter": "python", 
            "file_extension": ".py", 
            "version": "3.5.2"
        }
    }, 
    "cells": [
        {
            "metadata": {}, 
            "cell_type": "markdown", 
            "source": "# RDD Transformations and Actions\n\nIn this lecture we will begin to delve deeper into using Spark and Python. Please view the video lecture for a full explanation.\n\n## Important Terms\n\nLet's quickly go over some important terms:\n\nTerm                   |Definition\n----                   |-------\nRDD                    |Resilient Distributed Dataset\nTransformation         |Spark operation that produces an RDD\nAction                 |Spark operation that produces a local object\nSpark Job              |Sequence of transformations on data with a final action"
        }, 
        {
            "metadata": {}, 
            "cell_type": "markdown", 
            "source": "## Creating an RDD\n\nThere are two common ways to create an RDD:\n\nMethod                      |Result\n----------                               |-------\n`sc.parallelize(array)`                  |Create RDD of elements of array (or list)\n`sc.textFile(path/to/file)`                      |Create RDD of lines from file"
        }, 
        {
            "metadata": {}, 
            "cell_type": "markdown", 
            "source": "## RDD Transformations\n\nWe can use transformations to create a set of instructions we want to preform on the RDD (before we call an action and actually execute them).\n\nTransformation Example                          |Result\n----------                               |-------\n`filter(lambda x: x % 2 == 0)`           |Discard non-even elements\n`map(lambda x: x * 2)`                   |Multiply each RDD element by `2`\n`map(lambda x: x.split())`               |Split each string into words\n`flatMap(lambda x: x.split())`           |Split each string into words and flatten sequence\n`sample(withReplacement=True,0.25)`      |Create sample of 25% of elements with replacement\n`union(rdd)`                             |Append `rdd` to existing RDD\n`distinct()`                             |Remove duplicates in RDD\n`sortBy(lambda x: x, ascending=False)`   |Sort elements in descending order"
        }, 
        {
            "metadata": {}, 
            "cell_type": "markdown", 
            "source": "## RDD Actions\n\nOnce you have your 'recipe' of transformations ready, what you will do next is execute them by calling an action. Here are some common actions:\n\nAction                             |Result\n----------                             |-------\n`collect()`                            |Convert RDD to in-memory list \n`take(3)`                              |First 3 elements of RDD \n`top(3)`                               |Top 3 elements of RDD\n`takeSample(withReplacement=True,3)`   |Create sample of 3 elements with replacement\n`sum()`                                |Find element sum (assumes numeric elements)\n`mean()`                               |Find element mean (assumes numeric elements)\n`stdev()`                              |Find element deviation (assumes numeric elements)"
        }, 
        {
            "metadata": {}, 
            "cell_type": "markdown", 
            "source": "____\n# Examples\n\nNow the best way to show all of this is by going through examples! We'll first review a bit by creating and working with a simple text file, then we will move on to more realistic data, such as customers and sales data.\n\n### Creating an RDD from a text file:\n\n** Creating the textfile **"
        }, 
        {
            "outputs": [], 
            "execution_count": null, 
            "metadata": {
                "collapsed": false
            }, 
            "cell_type": "code", 
            "source": "%%writefile example2.txt\nfirst \nsecond line\nthe third line\nthen a fourth line"
        }, 
        {
            "metadata": {}, 
            "cell_type": "markdown", 
            "source": "Now let's perform some transformations and actions on this text file:"
        }, 
        {
            "outputs": [], 
            "execution_count": null, 
            "metadata": {
                "collapsed": true
            }, 
            "cell_type": "code", 
            "source": "#from pyspark import SparkContext"
        }, 
        {
            "outputs": [], 
            "execution_count": null, 
            "metadata": {
                "collapsed": false
            }, 
            "cell_type": "code", 
            "source": "#sc = SparkContext()\nsc"
        }, 
        {
            "outputs": [], 
            "execution_count": null, 
            "metadata": {
                "collapsed": false
            }, 
            "cell_type": "code", 
            "source": "# Show RDD\nsc.textFile('example2.txt')"
        }, 
        {
            "outputs": [], 
            "execution_count": null, 
            "metadata": {
                "collapsed": true
            }, 
            "cell_type": "code", 
            "source": "# Save a reference to this RDD\ntext_rdd = sc.textFile('example2.txt')"
        }, 
        {
            "outputs": [], 
            "execution_count": null, 
            "metadata": {
                "collapsed": false
            }, 
            "cell_type": "code", 
            "source": "text_rdd.collect()"
        }, 
        {
            "outputs": [], 
            "execution_count": null, 
            "metadata": {
                "collapsed": false
            }, 
            "cell_type": "code", 
            "source": "# Map a function (or lambda expression) to each line\n# Then collect the results.\ntext_rdd.map(lambda line: line.split()).collect()"
        }, 
        {
            "metadata": {}, 
            "cell_type": "markdown", 
            "source": "## Map vs flatMap"
        }, 
        {
            "outputs": [], 
            "execution_count": null, 
            "metadata": {
                "collapsed": false
            }, 
            "cell_type": "code", 
            "source": "# Collect everything as a single flat map\ntext_rdd.flatMap(lambda line: line.split()).collect()"
        }, 
        {
            "metadata": {}, 
            "cell_type": "markdown", 
            "source": "# RDDs and Key Value Pairs\n\nNow that we've worked with RDDs and how to aggregate values with them, we can begin to look into working with Key Value Pairs. In order to do this, let's create some fake data as a new text file.\n\nThis data represents some services sold to customers for some SAAS business."
        }, 
        {
            "outputs": [
                {
                    "name": "stdout", 
                    "output_type": "stream", 
                    "text": "Overwriting services.txt\n"
                }
            ], 
            "execution_count": 1, 
            "metadata": {
                "collapsed": false
            }, 
            "cell_type": "code", 
            "source": "%%writefile services.txt\n#EventId    Timestamp    Customer   State    ServiceID    Amount\n201       10/13/2017      100       NY       131          100.00\n204       10/18/2017      700       TX       129          450.00\n202       10/15/2017      203       CA       121          200.00\n206       10/19/2017      202       CA       131          500.00\n203       10/17/2017      101       NY       173          750.00\n205       10/19/2017      202       TX       121          200.00"
        }, 
        {
            "outputs": [], 
            "execution_count": 2, 
            "metadata": {
                "collapsed": true
            }, 
            "cell_type": "code", 
            "source": "services = sc.textFile('services.txt')"
        }, 
        {
            "outputs": [], 
            "execution_count": null, 
            "metadata": {
                "collapsed": false
            }, 
            "cell_type": "code", 
            "source": "services.take(2)"
        }, 
        {
            "outputs": [], 
            "execution_count": null, 
            "metadata": {
                "collapsed": false
            }, 
            "cell_type": "code", 
            "source": "services.map(lambda x: x.split())"
        }, 
        {
            "outputs": [], 
            "execution_count": null, 
            "metadata": {
                "collapsed": false
            }, 
            "cell_type": "code", 
            "source": "services.map(lambda x: x.split()).take(3)"
        }, 
        {
            "metadata": {}, 
            "cell_type": "markdown", 
            "source": "Let's remove that first hash-tag!"
        }, 
        {
            "outputs": [], 
            "execution_count": null, 
            "metadata": {
                "collapsed": false
            }, 
            "cell_type": "code", 
            "source": "services.map(lambda x: x[1:] if x[0]=='#' else x).collect()"
        }, 
        {
            "outputs": [], 
            "execution_count": null, 
            "metadata": {
                "collapsed": false
            }, 
            "cell_type": "code", 
            "source": "services.map(lambda x: x[1:] if x[0]=='#' else x).map(lambda x: x.split()).collect()"
        }, 
        {
            "metadata": {}, 
            "cell_type": "markdown", 
            "source": "## Using Key Value Pairs for Operations\n\nLet us now begin to use methods that combine lambda expressions that use a ByKey argument. These ByKey methods will assume that one of the \n\n\nFor example let's find out the total sales per state: "
        }, 
        {
            "outputs": [], 
            "execution_count": null, 
            "metadata": {
                "collapsed": true
            }, 
            "cell_type": "code", 
            "source": "# From Previous\ncleanServ = services.map(lambda x: x[1:] if x[0]=='#' else x).map(lambda x: x.split())"
        }, 
        {
            "outputs": [], 
            "execution_count": null, 
            "metadata": {
                "collapsed": false
            }, 
            "cell_type": "code", 
            "source": "# Let's start by practicing grabbing fields\ncleanServ.map(lambda lst: (lst[3],lst[-1])).collect()"
        }, 
        {
            "outputs": [], 
            "execution_count": null, 
            "metadata": {
                "collapsed": false
            }, 
            "cell_type": "code", 
            "source": "# Continue with reduceByKey\n# Notice how it assumes that the first item is the key!\ncleanServ.map(lambda lst: (lst[3],lst[-1]))\\\n         .reduceByKey(lambda amt1,amt2 : amt1+amt2)\\\n         .collect()"
        }, 
        {
            "metadata": {}, 
            "cell_type": "markdown", 
            "source": "Uh oh! Looks like we forgot that the amounts are still strings! Let's fix that:"
        }, 
        {
            "outputs": [], 
            "execution_count": null, 
            "metadata": {
                "collapsed": false
            }, 
            "cell_type": "code", 
            "source": "# Continue with reduceByKey\n# Notice how it assumes that the first item is the key!\ncleanServ.map(lambda lst: (lst[3],lst[-1]))\\\n         .reduceByKey(lambda amt1,amt2 : float(amt1)+float(amt2))\\\n         .collect()"
        }, 
        {
            "metadata": {}, 
            "cell_type": "markdown", 
            "source": "We can continue our analysis by sorting this output:"
        }, 
        {
            "outputs": [], 
            "execution_count": null, 
            "metadata": {
                "collapsed": false
            }, 
            "cell_type": "code", 
            "source": "# Grab state and amounts\n# Add them\n# Get rid of ('State','Amount')\n# Sort them by the amount value\ncleanServ.map(lambda lst: (lst[3],lst[-1]))\\\n.reduceByKey(lambda amt1,amt2 : float(amt1)+float(amt2))\\\n.filter(lambda x: not x[0]=='State')\\\n.sortBy(lambda stateAmount: stateAmount[1], ascending=False)\\\n.collect()"
        }, 
        {
            "metadata": {}, 
            "cell_type": "markdown", 
            "source": "** Remember to try to use unpacking for readability. For example: **"
        }, 
        {
            "outputs": [], 
            "execution_count": null, 
            "metadata": {
                "collapsed": false
            }, 
            "cell_type": "code", 
            "source": "x = ['ID','State','Amount']"
        }, 
        {
            "outputs": [], 
            "execution_count": null, 
            "metadata": {
                "collapsed": true
            }, 
            "cell_type": "code", 
            "source": "def func1(lst):\n    return lst[-1]"
        }, 
        {
            "outputs": [], 
            "execution_count": null, 
            "metadata": {
                "collapsed": false
            }, 
            "cell_type": "code", 
            "source": "def func2(id_st_amt):\n    # Unpack Values\n    (Id,st,amt) = id_st_amt\n    return amt"
        }, 
        {
            "outputs": [], 
            "execution_count": null, 
            "metadata": {
                "collapsed": false
            }, 
            "cell_type": "code", 
            "source": "func1(x)"
        }, 
        {
            "outputs": [], 
            "execution_count": null, 
            "metadata": {
                "collapsed": false
            }, 
            "cell_type": "code", 
            "source": "func2(x)"
        }, 
        {
            "metadata": {}, 
            "cell_type": "markdown", 
            "source": "# Great Job!"
        }
    ], 
    "nbformat": 4
}