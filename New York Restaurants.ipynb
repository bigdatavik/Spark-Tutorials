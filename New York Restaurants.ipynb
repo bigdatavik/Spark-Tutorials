{
    "nbformat_minor": 0, 
    "metadata": {
        "kernelspec": {
            "name": "python2", 
            "display_name": "Python 2", 
            "language": "python"
        }, 
        "language_info": {
            "mimetype": "text/x-python", 
            "codemirror_mode": {
                "name": "ipython", 
                "version": 2
            }, 
            "pygments_lexer": "ipython2", 
            "name": "python", 
            "nbconvert_exporter": "python", 
            "file_extension": ".py", 
            "version": "2.7.11"
        }
    }, 
    "cells": [
        {
            "metadata": {}, 
            "cell_type": "markdown", 
            "source": "<img src='https://raw.githubusercontent.com/dxkikuchi/SparkSnips/master/dsxbanner.jpg' width='75%'></img>"
        }, 
        {
            "metadata": {}, 
            "cell_type": "markdown", 
            "source": "IBM Data Science Experience is an interactive, collaborative, cloud-based environment where data scientists can use multiple tools to activate their insights.  Data scientists can use the best of open source, tap into IBM's unique features, grow their capabilities, and share their successess.  In addition to all the features in the current preview, many new capabilities are being added including the ability to ingest Object Storage data with a single click, an enhanced user interface for version control, a facility to comment or chat about a notebook with others, and many more!"
        }, 
        {
            "metadata": {}, 
            "cell_type": "markdown", 
            "source": "## New York State Restaurant Inspections Notebook\nThis notebook will provide insights from official restaurant inspections records for most of the state of New York and provide visualizations of that data.  The location of this data is defined below.  For additional details, please see <a href=\"https://health.data.ny.gov/Health/Food-Service-Establishment-Last-Inspection/cnih-y5dw\" target=\"_blank\">New York State Restaurant Ratings</a>"
        }, 
        {
            "outputs": [], 
            "execution_count": null, 
            "metadata": {
                "collapsed": true
            }, 
            "cell_type": "code", 
            "source": "nyr = 'https://health.data.ny.gov/api/views/cnih-y5dw/rows.csv?accessType=DOWNLOAD'"
        }, 
        {
            "metadata": {}, 
            "cell_type": "markdown", 
            "source": "The csv (comma separated values) data will be read into a Pandas dataframe (nyr) and the first 5 records are displayed using the 'head()' method.<br>\nPlease attempt to write the code to read the csv data in the following cell without looking at the solution provided 2 cells from here."
        }, 
        {
            "outputs": [], 
            "execution_count": null, 
            "metadata": {
                "collapsed": false
            }, 
            "cell_type": "code", 
            "source": "import pandas as pd\n# Please add your code here\nnyr.head()"
        }, 
        {
            "metadata": {}, 
            "cell_type": "markdown", 
            "source": "<b>Solution</b>: Please copy and paste the following code into the previous cell where specified.<br>\nnyr = pd.read_csv(nyr)<br>"
        }, 
        {
            "metadata": {}, 
            "cell_type": "markdown", 
            "source": "Ingesting data can be as simple as using one line of code.  Similarly, data can be ingested from Cloudant, DashDB, Object Storage, relational databases, and many others."
        }, 
        {
            "metadata": {}, 
            "cell_type": "markdown", 
            "source": "The data will be transformed into a Spark dataframe 'nyrDF' and a table will be registered.  Spark dataframes are conceptually equivalent to a table in a relational database or a dataframe in R/Python, but with richer optimizations under the hood.  A table that is registered can be used in subsequent SQL statements.<br>\nPlease attempt to write the code in the following cell to register the table 'nvrDF' without looking at the solution provided 2 cells from here."
        }, 
        {
            "outputs": [], 
            "execution_count": null, 
            "metadata": {
                "collapsed": false
            }, 
            "cell_type": "code", 
            "source": "nyrDF = sqlContext.createDataFrame(nyr)\n# Please add your code here"
        }, 
        {
            "metadata": {}, 
            "cell_type": "markdown", 
            "source": "<b>Solution</b>: Please copy and paste the following code into the previous cell where specified.<br>\nnyrDF.registerTempTable(\"nyrDF\")"
        }, 
        {
            "metadata": {}, 
            "cell_type": "markdown", 
            "source": "Now, a Spark dataframe 'nyvDF' will be created using SQL that will contain the restaurant name (FACILITY), latitude, longitude and violations.  Note that the latitude and longitude are combined in the final column (Location1) of the retrieved data.  They will be extracted separately using regular expressions in the SQL.  The results are ordered by number of violations in descending order and the top 10 are displayed."
        }, 
        {
            "outputs": [], 
            "execution_count": null, 
            "metadata": {
                "scrolled": true, 
                "collapsed": false
            }, 
            "cell_type": "code", 
            "source": "query = \"\"\"\nselect \n    FACILITY, \n    trim(regexp_extract(location1, '(\\\\\\()(.*),(.*)(\\\\\\))',2)) as lat, \n    trim(regexp_extract(location1, '(\\\\\\()(.*),(.*)(\\\\\\))',3)) as lon,\n    cast(`TOTAL # CRITICAL VIOLATIONS` as int) as Violations\nfrom nyrDF \norder by Violations desc\nlimit 1000\n\"\"\"\nnyvDF = sqlContext.sql(query)\nnyvDF.show(10)"
        }, 
        {
            "metadata": {}, 
            "cell_type": "markdown", 
            "source": "Brunel visualization will be used to map the latitude and longitude to a New York state map.  Colors represent the number of violations as described in the key."
        }, 
        {
            "outputs": [], 
            "execution_count": null, 
            "metadata": {
                "collapsed": false
            }, 
            "cell_type": "code", 
            "source": "import brunel\nnyvPan = nyvDF.toPandas()\n%brunel map ('NY') + data('nyvPan') x(lon) y(lat) color(Violations) tooltip(FACILITY)"
        }, 
        {
            "metadata": {}, 
            "cell_type": "markdown", 
            "source": "One of the many key strengths of Data Science Experience is the ability to easily search and quickly learn about various topics.  For example, to find articles, tutorials or notebooks on Brunel, click on the search button on the top right hand corner of this web page.  A side palette will appear where you can enter 'Brunel' or other topics of interest."
        }, 
        {
            "metadata": {}, 
            "cell_type": "markdown", 
            "source": "Pixiedust provides charting and visualization.  It is an open source Python library that works as an add-on to Jupyter notebooks to improve the user experience of working with data.  Please execute the next cell for a tabular view of the data."
        }, 
        {
            "outputs": [], 
            "execution_count": null, 
            "metadata": {
                "collapsed": false
            }, 
            "cell_type": "code", 
            "source": "from pixiedust.display import *\ndisplay(nyvDF)"
        }, 
        {
            "metadata": {}, 
            "cell_type": "markdown", 
            "source": "If you hover over the lonely lighter colored dot in the middle of the New York State map, you can see that it is for 'CAMP KINGSLEY - CC'.  By starting to type the value 'camp' in the 'Search table' text field above, the record will be displayed.  Numerous visualization are available with support for maps in the future.  Please take a look at the histogram of this data for another insight.  In addition, the data can be downloaded as a file, or stashed to Cloudant or Object Storage."
        }, 
        {
            "metadata": {}, 
            "cell_type": "markdown", 
            "source": "In just a few notebook cells, data was ingested, manipulated, visualized and yielded insights.  Much more capability, including machine learning, could be leveraged with IBM Data Science Experience.  This is just the tip of the iceberg!"
        }
    ], 
    "nbformat": 4
}